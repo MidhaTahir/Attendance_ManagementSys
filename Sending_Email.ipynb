{
 "cells": [
  {
   "cell_type": "code",
   "execution_count": 12,
   "metadata": {},
   "outputs": [],
   "source": [
    "import smtplib #using gmail smtp server\n",
    "from datetime import date"
   ]
  },
  {
   "cell_type": "code",
   "execution_count": 14,
   "metadata": {},
   "outputs": [
    {
     "name": "stdout",
     "output_type": "stream",
     "text": [
      "Email Sent successfully\n"
     ]
    }
   ],
   "source": [
    "try:\n",
    "    today = date.today()\n",
    "    content = \"Dear Student,You are marked absent on date:  {}\".format(today)\n",
    "    mail = smtplib.SMTP('smtp.gmail.com',587) #server,port->465 or 587\n",
    "    mail.ehlo() #identify yourself to the server ehlo for extended smtp\n",
    "    mail.starttls() #encrypted\n",
    "    mail.login(\"gmailaccount\",\"password\")\n",
    "    mail.sendmail('yourgmailaccount',\"receiver's_email\",content) #send mail #from,to,content\n",
    "    mail.close() #closing the connection\n",
    "    print(\"Email Sent successfully\")\n",
    "    # email.mime.text to include subject line \n",
    "except:\n",
    "    print(\"Email failed to send\")"
   ]
  },
  {
   "cell_type": "code",
   "execution_count": null,
   "metadata": {},
   "outputs": [],
   "source": [
    "#NOTE: First visit https://myaccount.google.com/lesssecureapps and turn on Allow less secure apps:ON"
   ]
  },
  {
   "cell_type": "markdown",
   "metadata": {},
   "source": [
    "A less secure app (LSA) is an app that connects to Google accounts\n",
    "using only username and password verification for access and not OAuth. Avoid using your important gmail account."
   ]
  }
 ],
 "metadata": {
  "kernelspec": {
   "display_name": "Python 3",
   "language": "python",
   "name": "python3"
  },
  "language_info": {
   "codemirror_mode": {
    "name": "ipython",
    "version": 3
   },
   "file_extension": ".py",
   "mimetype": "text/x-python",
   "name": "python",
   "nbconvert_exporter": "python",
   "pygments_lexer": "ipython3",
   "version": "3.7.3"
  }
 },
 "nbformat": 4,
 "nbformat_minor": 2
}
